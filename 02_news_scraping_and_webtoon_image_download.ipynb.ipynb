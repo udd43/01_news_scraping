{
 "cells": [
  {
   "cell_type": "code",
   "execution_count": 21,
   "id": "095e6f1b",
   "metadata": {},
   "outputs": [
    {
     "name": "stdout",
     "output_type": "stream",
     "text": [
      "\n",
      "=== 최신뉴스 ===\n",
      "\n",
      " 민변, '헌법재판관 후보 지명 위헌' 헌법소원·가처분 신청\n",
      " https://news.nate.com/view/20250409n39731?mid=n0100\n"
     ]
    },
    {
     "data": {
      "text/html": [
       "<img src=\"https://thumbnews.nateimg.co.kr/news90///news.nateimg.co.kr/orgImg/sv/2025/04/09/202059398_700.jpg\" width=\"200\"/>"
      ],
      "text/plain": [
       "<IPython.core.display.Image object>"
      ]
     },
     "metadata": {},
     "output_type": "display_data"
    },
    {
     "name": "stdout",
     "output_type": "stream",
     "text": [
      "\n",
      " [단독]'싱크홀 지도' 만든다더니, 지질조사도 안했다\n",
      " https://news.nate.com/view/20250409n39730?mid=n0100\n"
     ]
    },
    {
     "data": {
      "text/html": [
       "<img src=\"https://thumbnews.nateimg.co.kr/news90///news.nateimg.co.kr/orgImg/do/2025/04/09/131310765.1.jpg\" width=\"200\"/>"
      ],
      "text/plain": [
       "<IPython.core.display.Image object>"
      ]
     },
     "metadata": {},
     "output_type": "display_data"
    },
    {
     "name": "stdout",
     "output_type": "stream",
     "text": [
      "\n",
      " 中, 10일부터 대미관세 84% '맞불'…시진핑 자신만만한 이유\n",
      " https://news.nate.com/view/20250409n37856?mid=n0100\n"
     ]
    },
    {
     "data": {
      "text/html": [
       "<img src=\"https://thumbnews.nateimg.co.kr/news90///news.nateimg.co.kr/orgImg/hr/2025/04/09/news-p.v1.20250409.4cb2b1ad1f8f450c827b0a9addaa5c68_P1.jpg\" width=\"200\"/>"
      ],
      "text/plain": [
       "<IPython.core.display.Image object>"
      ]
     },
     "metadata": {},
     "output_type": "display_data"
    },
    {
     "name": "stdout",
     "output_type": "stream",
     "text": [
      "\n",
      " ML 28승 커리어도, 153㎞ 강속구도 안 통해…'송구 실책' 어빈, '2자책' 5실점 패전 위기 [IS 잠실]\n",
      " https://news.nate.com/view/20250409n39077?mid=n0100\n"
     ]
    },
    {
     "data": {
      "text/html": [
       "<img src=\"https://thumbnews.nateimg.co.kr/news90///news.nateimg.co.kr/orgImg/is/2025/04/09/isp20250409000448.800x.0.jpg\" width=\"200\"/>"
      ],
      "text/plain": [
       "<IPython.core.display.Image object>"
      ]
     },
     "metadata": {},
     "output_type": "display_data"
    },
    {
     "name": "stdout",
     "output_type": "stream",
     "text": [
      "\n",
      " 제2의 한강·봉준호 키우자…자산가 100억 기부\n",
      " https://news.nate.com/view/20250409n39726?mid=n0100\n"
     ]
    },
    {
     "data": {
      "text/html": [
       "<img src=\"https://thumbnews.nateimg.co.kr/news90///news.nateimg.co.kr/orgImg/sg/2025/04/09/20250409519228.jpg\" width=\"200\"/>"
      ],
      "text/plain": [
       "<IPython.core.display.Image object>"
      ]
     },
     "metadata": {},
     "output_type": "display_data"
    },
    {
     "name": "stdout",
     "output_type": "stream",
     "text": [
      "\n",
      "=== 정치 ===\n",
      "\n",
      " 韓대행, 美상호관세 발효에 \"한미동맹 격상이 슬기로운 해법\"\n",
      " https://news.nate.com/view/20250409n39722?mid=n0101\n"
     ]
    },
    {
     "data": {
      "text/html": [
       "<img src=\"https://thumbnews.nateimg.co.kr/news90///news.nateimg.co.kr/orgImg/cb/2025/04/09/202504092056335101_0.jpg\" width=\"200\"/>"
      ],
      "text/plain": [
       "<IPython.core.display.Image object>"
      ]
     },
     "metadata": {},
     "output_type": "display_data"
    },
    {
     "name": "stdout",
     "output_type": "stream",
     "text": [
      "\n",
      " 민주당, 대정부질문 이어 내란·명태균 특검법 재표결 추진\n",
      " https://news.nate.com/view/20250409n39718?mid=n0101\n"
     ]
    },
    {
     "data": {
      "text/html": [
       "<img src=\"https://thumbnews.nateimg.co.kr/news90///news.nateimg.co.kr/orgImg/ae/2025/04/09/ae_1744200125161_753858_0.jpg\" width=\"200\"/>"
      ],
      "text/plain": [
       "<IPython.core.display.Image object>"
      ]
     },
     "metadata": {},
     "output_type": "display_data"
    },
    {
     "name": "stdout",
     "output_type": "stream",
     "text": [
      "\n",
      " 트럼프가 들이민 안보 비용 청구서…\"방위비·관세 패키지 협상 전략 세워야\"\n",
      " https://news.nate.com/view/20250409n39690?mid=n0101\n"
     ]
    },
    {
     "data": {
      "text/html": [
       "<img src=\"https://thumbnews.nateimg.co.kr/news90///news.nateimg.co.kr/orgImg/hi/2025/04/09/c381bb53-1cd4-493e-830c-540a15353b61.jpg\" width=\"200\"/>"
      ],
      "text/plain": [
       "<IPython.core.display.Image object>"
      ]
     },
     "metadata": {},
     "output_type": "display_data"
    },
    {
     "name": "stdout",
     "output_type": "stream",
     "text": [
      "\n",
      " 수권 의지 드러낸 이재명 \"위대한 길, 여러분과 함께 걷겠다\"\n",
      " https://news.nate.com/view/20250409n39683?mid=n0101\n"
     ]
    },
    {
     "data": {
      "text/html": [
       "<img src=\"https://thumbnews.nateimg.co.kr/news90///news.nateimg.co.kr/orgImg/hi/2025/04/09/35566b86-d03b-403f-8f8b-ffc8c0b9316b.jpg\" width=\"200\"/>"
      ],
      "text/plain": [
       "<IPython.core.display.Image object>"
      ]
     },
     "metadata": {},
     "output_type": "display_data"
    },
    {
     "name": "stdout",
     "output_type": "stream",
     "text": [
      "\n",
      " 김문수, 철 지난 색깔론 들고 출마…극우로 대동단결? [공덕포차]\n",
      " https://news.nate.com/view/20250409n39096?mid=n0101\n"
     ]
    },
    {
     "data": {
      "text/html": [
       "<img src=\"https://thumbnews.nateimg.co.kr/news90///news.nateimg.co.kr/orgImg/hn/2025/04/09/20250409503989.jpg\" width=\"200\"/>"
      ],
      "text/plain": [
       "<IPython.core.display.Image object>"
      ]
     },
     "metadata": {},
     "output_type": "display_data"
    },
    {
     "name": "stdout",
     "output_type": "stream",
     "text": [
      "\n",
      "=== 경제 ===\n",
      "\n",
      " 美 '104% 관세폭탄' 위협에…중국, 50% 추가관세로 '전방위 보복' 착수\n",
      " https://news.nate.com/view/20250409n39716?mid=n0102\n"
     ]
    },
    {
     "data": {
      "text/html": [
       "<img src=\"https://thumbnews.nateimg.co.kr/news90///news.nateimg.co.kr/orgImg/en/2025/04/09/1658659_672292_5927.jpg\" width=\"200\"/>"
      ],
      "text/plain": [
       "<IPython.core.display.Image object>"
      ]
     },
     "metadata": {},
     "output_type": "display_data"
    },
    {
     "name": "stdout",
     "output_type": "stream",
     "text": [
      "\n",
      " 허리띠 졸라맨 소비자…못 버티는 자영업자 [데이터로 보는 세상]\n",
      " https://news.nate.com/view/20250409n39706?mid=n0102\n"
     ]
    },
    {
     "data": {
      "text/html": [
       "<img src=\"https://thumbnews.nateimg.co.kr/news90///news.nateimg.co.kr/orgImg/me/2025/04/09/news-p.v1.20250404.f539442820de412f9c5381e25c07cf12_P2.jpg\" width=\"200\"/>"
      ],
      "text/plain": [
       "<IPython.core.display.Image object>"
      ]
     },
     "metadata": {},
     "output_type": "display_data"
    },
    {
     "name": "stdout",
     "output_type": "stream",
     "text": [
      "\n",
      " \"대체거래소 잘나가네\"…NXT 주식 거래 점유율 16% [데이터로 보는 세상]\n",
      " https://news.nate.com/view/20250409n39705?mid=n0102\n"
     ]
    },
    {
     "data": {
      "text/html": [
       "<img src=\"https://thumbnews.nateimg.co.kr/news90///news.nateimg.co.kr/orgImg/me/2025/04/09/news-p.v1.20250404.292443756b9f4bffbbc0cc6252edfb84_P2.jpg\" width=\"200\"/>"
      ],
      "text/plain": [
       "<IPython.core.display.Image object>"
      ]
     },
     "metadata": {},
     "output_type": "display_data"
    },
    {
     "name": "stdout",
     "output_type": "stream",
     "text": [
      "\n",
      " K제조업 엑소더스…'메이드 인 코리아'의 종언\n",
      " https://news.nate.com/view/20250409n39704?mid=n0102\n"
     ]
    },
    {
     "data": {
      "text/html": [
       "<img src=\"https://thumbnews.nateimg.co.kr/news90///news.nateimg.co.kr/orgImg/me/2025/04/09/news-p.v1.20250404.084fc6beb6804478b5169f7b0a51aed2_P1.jpg\" width=\"200\"/>"
      ],
      "text/plain": [
       "<IPython.core.display.Image object>"
      ]
     },
     "metadata": {},
     "output_type": "display_data"
    },
    {
     "name": "stdout",
     "output_type": "stream",
     "text": [
      "\n",
      " '탈한국' 열차에 왜 올라탔을까 [텅 비어가는 K제조업]\n",
      " https://news.nate.com/view/20250409n39703?mid=n0102\n"
     ]
    },
    {
     "data": {
      "text/html": [
       "<img src=\"https://thumbnews.nateimg.co.kr/news90///news.nateimg.co.kr/orgImg/me/2025/04/09/news-p.v1.20250404.3e9deba94c24491ba635fef8fddb21e6_P2.jpg\" width=\"200\"/>"
      ],
      "text/plain": [
       "<IPython.core.display.Image object>"
      ]
     },
     "metadata": {},
     "output_type": "display_data"
    },
    {
     "name": "stdout",
     "output_type": "stream",
     "text": [
      "\n",
      "=== 사회 ===\n",
      "\n",
      " 민변, '헌법재판관 후보 지명 위헌' 헌법소원·가처분 신청\n",
      " https://news.nate.com/view/20250409n39731?mid=n0103\n"
     ]
    },
    {
     "data": {
      "text/html": [
       "<img src=\"https://thumbnews.nateimg.co.kr/news90///news.nateimg.co.kr/orgImg/sv/2025/04/09/202059398_700.jpg\" width=\"200\"/>"
      ],
      "text/plain": [
       "<IPython.core.display.Image object>"
      ]
     },
     "metadata": {},
     "output_type": "display_data"
    },
    {
     "name": "stdout",
     "output_type": "stream",
     "text": [
      "\n",
      " [단독]'싱크홀 지도' 만든다더니, 지질조사도 안했다\n",
      " https://news.nate.com/view/20250409n39730?mid=n0103\n"
     ]
    },
    {
     "data": {
      "text/html": [
       "<img src=\"https://thumbnews.nateimg.co.kr/news90///news.nateimg.co.kr/orgImg/do/2025/04/09/131310765.1.jpg\" width=\"200\"/>"
      ],
      "text/plain": [
       "<IPython.core.display.Image object>"
      ]
     },
     "metadata": {},
     "output_type": "display_data"
    },
    {
     "name": "stdout",
     "output_type": "stream",
     "text": [
      "\n",
      " 제2의 한강·봉준호 키우자…자산가 100억 기부\n",
      " https://news.nate.com/view/20250409n39726?mid=n0103\n"
     ]
    },
    {
     "data": {
      "text/html": [
       "<img src=\"https://thumbnews.nateimg.co.kr/news90///news.nateimg.co.kr/orgImg/sg/2025/04/09/20250409519228.jpg\" width=\"200\"/>"
      ],
      "text/plain": [
       "<IPython.core.display.Image object>"
      ]
     },
     "metadata": {},
     "output_type": "display_data"
    },
    {
     "name": "stdout",
     "output_type": "stream",
     "text": [
      "\n",
      " '靑 습격 사건 ' 김신조 목사 별세\n",
      " https://news.nate.com/view/20250409n39711?mid=n0103\n"
     ]
    },
    {
     "data": {
      "text/html": [
       "<img src=\"https://thumbnews.nateimg.co.kr/news90///news.nateimg.co.kr/orgImg/sg/2025/04/09/20250409519255.jpg\" width=\"200\"/>"
      ],
      "text/plain": [
       "<IPython.core.display.Image object>"
      ]
     },
     "metadata": {},
     "output_type": "display_data"
    },
    {
     "name": "stdout",
     "output_type": "stream",
     "text": [
      "\n",
      " '50만명 위자료 청구' 포항 지진 손배소 내달 항소심 선고\n",
      " https://news.nate.com/view/20250409n39710?mid=n0103\n",
      "이미지 없음\n",
      "\n",
      "=== 세계 ===\n",
      "\n",
      " 中, 10일부터 대미관세 84% '맞불'…시진핑 자신만만한 이유\n",
      " https://news.nate.com/view/20250409n37856?mid=n0104\n"
     ]
    },
    {
     "data": {
      "text/html": [
       "<img src=\"https://thumbnews.nateimg.co.kr/news90///news.nateimg.co.kr/orgImg/hr/2025/04/09/news-p.v1.20250409.4cb2b1ad1f8f450c827b0a9addaa5c68_P1.jpg\" width=\"200\"/>"
      ],
      "text/plain": [
       "<IPython.core.display.Image object>"
      ]
     },
     "metadata": {},
     "output_type": "display_data"
    },
    {
     "name": "stdout",
     "output_type": "stream",
     "text": [
      "\n",
      " 중국도 미국에 50% 관세 추가…미국 104% 대 중국 84%\n",
      " https://news.nate.com/view/20250409n39320?mid=n0104\n"
     ]
    },
    {
     "data": {
      "text/html": [
       "<img src=\"https://thumbnews.nateimg.co.kr/news90///news.nateimg.co.kr/orgImg/ns/2025/04/09/NISI20250129_0000067184_web.jpg\" width=\"200\"/>"
      ],
      "text/plain": [
       "<IPython.core.display.Image object>"
      ]
     },
     "metadata": {},
     "output_type": "display_data"
    },
    {
     "name": "stdout",
     "output_type": "stream",
     "text": [
      "\n",
      " 中, '美 104% 관세'에 재보복…\"미국산 추가관세 84%\"\n",
      " https://news.nate.com/view/20250409n38865?mid=n0104\n"
     ]
    },
    {
     "data": {
      "text/html": [
       "<img src=\"https://thumbnews.nateimg.co.kr/news90///news.nateimg.co.kr/orgImg/kx/2025/04/09/2024111409561854681_1731545778_0027956319.jpg\" width=\"200\"/>"
      ],
      "text/plain": [
       "<IPython.core.display.Image object>"
      ]
     },
     "metadata": {},
     "output_type": "display_data"
    },
    {
     "name": "stdout",
     "output_type": "stream",
     "text": [
      "\n",
      " 일본, 전 국민에 현금 40만∼50만원 지급 추진…왜?\n",
      " https://news.nate.com/view/20250409n38820?mid=n0104\n"
     ]
    },
    {
     "data": {
      "text/html": [
       "<img src=\"https://thumbnews.nateimg.co.kr/news90///news.nateimg.co.kr/orgImg/ch/2025/04/09/ch_1744200065176_999012_0.jpg\" width=\"200\"/>"
      ],
      "text/plain": [
       "<IPython.core.display.Image object>"
      ]
     },
     "metadata": {},
     "output_type": "display_data"
    },
    {
     "name": "stdout",
     "output_type": "stream",
     "text": [
      "\n",
      " [속보] 중국, 미 104% 관세에 맞불…\"모든 미국산에 추가관세 34→84%\"\n",
      " https://news.nate.com/view/20250409n39269?mid=n0104\n"
     ]
    },
    {
     "data": {
      "text/html": [
       "<img src=\"https://thumbnews.nateimg.co.kr/news90///news.nateimg.co.kr/orgImg/sv/2025/04/09/202059017_700.jpg\" width=\"200\"/>"
      ],
      "text/plain": [
       "<IPython.core.display.Image object>"
      ]
     },
     "metadata": {},
     "output_type": "display_data"
    },
    {
     "name": "stdout",
     "output_type": "stream",
     "text": [
      "\n",
      "=== IT/과학 ===\n",
      "\n",
      " 복면가왕이 '레전드 응원가' 부르더니…매년 기부하는 사연 [영상]\n",
      " https://news.nate.com/view/20250409n38368?mid=n0105\n"
     ]
    },
    {
     "data": {
      "text/html": [
       "<img src=\"https://thumbnews.nateimg.co.kr/news90///news.nateimg.co.kr/orgImg/hk/2025/04/09/01.40103508.1.gif\" width=\"200\"/>"
      ],
      "text/plain": [
       "<IPython.core.display.Image object>"
      ]
     },
     "metadata": {},
     "output_type": "display_data"
    },
    {
     "name": "stdout",
     "output_type": "stream",
     "text": [
      "\n",
      " \"AI도 팀워크 시대\"…구글 클라우드, AI 인프라·에이전트 비전 공개 [클라우드+]\n",
      " https://news.nate.com/view/20250409n39686?mid=n0105\n"
     ]
    },
    {
     "data": {
      "text/html": [
       "<img src=\"https://thumbnews.nateimg.co.kr/news90///news.nateimg.co.kr/orgImg/in/2025/04/09/8dc911b162c0d6.jpg\" width=\"200\"/>"
      ],
      "text/plain": [
       "<IPython.core.display.Image object>"
      ]
     },
     "metadata": {},
     "output_type": "display_data"
    },
    {
     "name": "stdout",
     "output_type": "stream",
     "text": [
      "\n",
      " 구글 클라우드, '제미나이 2.5 플래시' 공개…기업용 제품군 강화\n",
      " https://news.nate.com/view/20250409n39659?mid=n0105\n"
     ]
    },
    {
     "data": {
      "text/html": [
       "<img src=\"https://thumbnews.nateimg.co.kr/news90///news.nateimg.co.kr/orgImg/mt/2025/04/09/2025040916073122466_1.jpg\" width=\"200\"/>"
      ],
      "text/plain": [
       "<IPython.core.display.Image object>"
      ]
     },
     "metadata": {},
     "output_type": "display_data"
    },
    {
     "name": "stdout",
     "output_type": "stream",
     "text": [
      "\n",
      " '카이스트 교수' 권지용의 말…\"과학·예술, 서로 맞닿아\"\n",
      " https://news.nate.com/view/20250409n39576?mid=n0105\n"
     ]
    },
    {
     "data": {
      "text/html": [
       "<img src=\"https://thumbnews.nateimg.co.kr/news90///news.nateimg.co.kr/orgImg/kx/2025/04/09/01400101.20250409500117.jpg\" width=\"200\"/>"
      ],
      "text/plain": [
       "<IPython.core.display.Image object>"
      ]
     },
     "metadata": {},
     "output_type": "display_data"
    },
    {
     "name": "stdout",
     "output_type": "stream",
     "text": [
      "\n",
      " \"중국에 못 당해…이러다 한국 쫄딱 망한다\" 얼마나 심각하길래 다들 이탈?\n",
      " https://news.nate.com/view/20250409n39231?mid=n0105\n"
     ]
    },
    {
     "data": {
      "text/html": [
       "<img src=\"https://thumbnews.nateimg.co.kr/news90///news.nateimg.co.kr/orgImg/hr/2025/04/09/news-p.v1.20250408.cce5ce022395496181be2642ca19af3d_P1.jpg\" width=\"200\"/>"
      ],
      "text/plain": [
       "<IPython.core.display.Image object>"
      ]
     },
     "metadata": {},
     "output_type": "display_data"
    }
   ],
   "source": [
    "import requests\n",
    "from bs4 import BeautifulSoup\n",
    "from urllib.parse import urljoin\n",
    "from IPython.display import Image, display\n",
    "\n",
    "def scrape_nate_news():\n",
    "    sections = {\n",
    "        \"최신뉴스\": \"https://news.nate.com/recent?mid=n0100\",\n",
    "        \"정치\": \"https://news.nate.com/recent?mid=n0101\",\n",
    "        \"경제\": \"https://news.nate.com/recent?mid=n0102\",\n",
    "        \"사회\": \"https://news.nate.com/recent?mid=n0103\",\n",
    "        \"세계\": \"https://news.nate.com/recent?mid=n0104\",\n",
    "        \"IT/과학\": \"https://news.nate.com/recent?mid=n0105\"\n",
    "    }\n",
    "    \n",
    "    for section, url in sections.items():\n",
    "        print(f\"\\n=== {section} ===\")\n",
    "        \n",
    "        try:\n",
    "            response = requests.get(url, headers={'User-Agent': 'Mozilla/5.0'})\n",
    "            response.raise_for_status()\n",
    "            soup = BeautifulSoup(response.text, 'html.parser')\n",
    "            \n",
    "            news_list = soup.select('.mlt01')\n",
    "            \n",
    "            for news in news_list[:5]:  # 각 섹션에서 5개 기사만 출력\n",
    "                # 기사 제목\n",
    "                title_element = news.select_one('.tit')\n",
    "                title = title_element.get_text(strip=True) if title_element else \"제목 없음\"\n",
    "                \n",
    "                # 기사 링크\n",
    "                link_element = news.select_one('a')\n",
    "                link = link_element['href'] if link_element else \"#\"\n",
    "                if not link.startswith('http'):\n",
    "                    link = urljoin(url, link)\n",
    "                \n",
    "                # 이미지 URL\n",
    "                img_tag = news.select_one('img')\n",
    "                img_url = None\n",
    "                if img_tag and 'src' in img_tag.attrs:\n",
    "                    img_url = img_tag['src']\n",
    "                    if not img_url.startswith('http'):\n",
    "                        img_url = urljoin(url, img_url)\n",
    "                \n",
    "                print(f\"\\n {title}\")\n",
    "                print(f\" {link}\")\n",
    "                \n",
    "                if img_url:\n",
    "                    try:\n",
    "                        display(Image(url=img_url, width=200))\n",
    "                    except:\n",
    "                        print(\"이미지 로드 실패\")\n",
    "                else:\n",
    "                    print(\"이미지 없음\")\n",
    "                    \n",
    "        except requests.exceptions.RequestException as e:\n",
    "            print(f\"{section} 섹션을 가져오는 중 오류 발생:\", e)\n",
    "\n",
    "# 함수 실행\n",
    "scrape_nate_news()"
   ]
  },
  {
   "cell_type": "code",
   "execution_count": 28,
   "id": "981ca566",
   "metadata": {},
   "outputs": [
    {
     "name": "stdout",
     "output_type": "stream",
     "text": [
      " 001.jpg 다운로드 \n",
      " 002.jpg 다운로드 \n",
      " 003.jpg 다운로드 \n",
      " 004.jpg 다운로드 \n",
      " 005.jpg 다운로드 \n",
      " 006.jpg 다운로드 \n",
      " 007.jpg 다운로드 \n",
      " 008.jpg 다운로드 \n",
      " 009.jpg 다운로드 \n",
      " 010.jpg 다운로드 \n",
      " 011.jpg 다운로드 \n",
      " 012.jpg 다운로드 \n",
      " 013.jpg 다운로드 \n",
      " 014.jpg 다운로드 \n",
      " 015.jpg 다운로드 \n",
      " 016.jpg 다운로드 \n",
      " 017.jpg 다운로드 \n",
      " 018.jpg 다운로드 \n",
      " 019.jpg 다운로드 \n",
      " 020.jpg 다운로드 \n",
      " 021.jpg 다운로드 \n",
      " 022.jpg 다운로드 \n",
      " 023.jpg 다운로드 \n",
      " 024.jpg 다운로드 \n",
      " 025.jpg 다운로드 \n"
     ]
    }
   ],
   "source": [
    "import os\n",
    "import requests\n",
    "from bs4 import BeautifulSoup\n",
    "from urllib.parse import urljoin\n",
    "\n",
    "def download_one_episode(title, no, url):\n",
    "    # 저장 경로 설정 \n",
    "    save_dir = os.path.join(\"img\", title, str(no))\n",
    "    os.makedirs(save_dir, exist_ok=True)\n",
    "\n",
    "    # 헤더 설정 \n",
    "    headers = {\n",
    "        \"User-Agent\": \"Mozilla/5.0 (Windows NT 10.0; Win64; x64) AppleWebKit/537.36 (KHTML, like Gecko) Chrome/91.0.4472.124 Safari/537.36\"\n",
    "    }\n",
    "\n",
    "    try:\n",
    "        # 웹툰 페이지 요청\n",
    "        res = requests.get(url, headers=headers)\n",
    "        res.raise_for_status()  # HTTP 오류 확인\n",
    "        soup = BeautifulSoup(res.text, \"html.parser\")\n",
    "\n",
    "        # 웹툰 이미지 추출 (.wt_viewer > img)\n",
    "        images = soup.select(\".wt_viewer img\")\n",
    "\n",
    "        if not images:\n",
    "            print(\" 이미지를 찾을 수 없습니다.\")\n",
    "            return\n",
    "\n",
    "        # 이미지 다운로드\n",
    "        for idx, img in enumerate(images, 1):\n",
    "            img_url = img[\"src\"]\n",
    "            if not img_url.startswith(\"http\"):\n",
    "                img_url = urljoin(\"https://comic.naver.com\", img_url)\n",
    "\n",
    "            try:\n",
    "                img_data = requests.get(img_url, headers=headers).content\n",
    "                filename = f\"{idx:03d}.jpg\"  # 001.jpg, 002.jpg, ...\n",
    "                filepath = os.path.join(save_dir, filename)\n",
    "\n",
    "                with open(filepath, \"wb\") as f:\n",
    "                    f.write(img_data)\n",
    "\n",
    "                print(f\" {filename} 다운로드 \")\n",
    "            except Exception as e:\n",
    "                print(f\" 이미지 {idx} 다운로드 실패: {e}\")\n",
    "\n",
    "    except Exception as e:\n",
    "        print(f\"오류 발생: {e}\")\n",
    "\n",
    "# 실행 예시 (냐한남자 1회차, finish 주소 사용)\n",
    "download_one_episode(\n",
    "    title=\"냐한남자\", \n",
    "    no=1, \n",
    "    url=\"https://comic.naver.com/webtoon/detail?titleId=708452&no=1&week=finish\"\n",
    ")"
   ]
  }
 ],
 "metadata": {
  "kernelspec": {
   "display_name": "base",
   "language": "python",
   "name": "python3"
  },
  "language_info": {
   "codemirror_mode": {
    "name": "ipython",
    "version": 3
   },
   "file_extension": ".py",
   "mimetype": "text/x-python",
   "name": "python",
   "nbconvert_exporter": "python",
   "pygments_lexer": "ipython3",
   "version": "3.12.7"
  }
 },
 "nbformat": 4,
 "nbformat_minor": 5
}
